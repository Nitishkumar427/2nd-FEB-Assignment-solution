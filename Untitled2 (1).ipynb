{
 "cells": [
  {
   "cell_type": "markdown",
   "id": "e7c5d947-6d7d-4352-b7fa-65f9cefd3261",
   "metadata": {},
   "source": [
    "## Q1. Which keyword is used to create a function? Create a function to return a list of odd numbers in the range of 1 to 25."
   ]
  },
  {
   "cell_type": "code",
   "execution_count": 3,
   "id": "a9b3403e-3db4-4f2c-aad0-d459694e6636",
   "metadata": {},
   "outputs": [
    {
     "name": "stdout",
     "output_type": "stream",
     "text": [
      "[1, 3, 5, 7, 9, 11, 13, 15, 17, 19, 21, 23, 25]\n"
     ]
    }
   ],
   "source": [
    "## solution--- The keyword used to create a function in Python is def. \n",
    "def get_odd_numbers():\n",
    "    odd_numbers = []\n",
    "    for num in range(1, 26):\n",
    "        if num % 2 != 0:\n",
    "            odd_numbers.append(num)\n",
    "    return odd_numbers\n",
    "\n",
    "# Example usage\n",
    "odd_nums = get_odd_numbers()\n",
    "print(odd_nums)"
   ]
  },
  {
   "cell_type": "markdown",
   "id": "108a322e-43f1-4c37-8fd9-ae11853d4e3a",
   "metadata": {},
   "source": [
    "## Q2. Why *args and **kwargs is used in some functions? Create a function each for *args and **kwargs to demonstrate their use."
   ]
  },
  {
   "cell_type": "code",
   "execution_count": 4,
   "id": "66e94a07-822e-44b2-ad79-f95ad6fff143",
   "metadata": {},
   "outputs": [
    {
     "name": "stdout",
     "output_type": "stream",
     "text": [
      "15\n"
     ]
    }
   ],
   "source": [
    "\n",
    "\"\"\"\n",
    "*args and **kwargs are used in function definitions to allow for variable-length arguments. \n",
    "  Here's an explanation of each and examples of how they can be used:\n",
    "   n Python, *args and **kwargs are used in function definitions to allow for variable-length arguments.\n",
    "   Here's an explanation of each and examples of how they can be used:\n",
    "\n",
    "1 *args:\n",
    "    --> The *args syntax allows a function to accept any number of positional arguments.\n",
    "\n",
    "   --> It is used when you want to pass a variable number of arguments to a function without specifying\n",
    "   them individually.\n",
    "\n",
    "    ---> Inside the function, args becomes a tuple that holds the passed arguments.\"\"\"\n",
    "def sum_numbers(*args):\n",
    "    total = 0\n",
    "    for num in args:\n",
    "        total += num\n",
    "    return total\n",
    "\n",
    "# Example usage\n",
    "result = sum_numbers(1, 2, 3, 4, 5)\n",
    "print(result)\n",
    "    "
   ]
  },
  {
   "cell_type": "code",
   "execution_count": 5,
   "id": "7d66c3d2-1862-4bd2-90b8-ab3b77c8c226",
   "metadata": {},
   "outputs": [
    {
     "name": "stdout",
     "output_type": "stream",
     "text": [
      "name: John\n",
      "age: 25\n",
      "city: New York\n"
     ]
    }
   ],
   "source": [
    "\"\"\"\n",
    "2)  **kwargs:\n",
    "\n",
    "    --> The **kwargs syntax allows a function to accept any number of keyword arguments as a dictionary.\n",
    "    \n",
    "  ---> It is used when you want to pass a variable number of keyword arguments to a function without\n",
    "       specifying them individually.\n",
    "    ---> Inside the function, kwargs becomes a dictionary that holds the passed keyword arguments\n",
    "    \"\"\"\n",
    "def print_person(**kwargs):\n",
    "    for key, value in kwargs.items():\n",
    "        print(key + \": \" + value)\n",
    "\n",
    "# Example usage\n",
    "print_person(name=\"John\", age=\"25\", city=\"New York\")"
   ]
  },
  {
   "cell_type": "markdown",
   "id": "68ce57a9-06a7-4d90-8a76-34bdcac4a676",
   "metadata": {},
   "source": [
    "## Q3. What is an iterator in python? Name the method used to initialise the iterator object and the method used for iteration. Use these methods to print the first five elements of the given list [2, 4, 6, 8, 10, 12, 14,16, 18, 20]."
   ]
  },
  {
   "cell_type": "code",
   "execution_count": 6,
   "id": "b857c91f-4fba-41c0-8fa2-3c34e8905feb",
   "metadata": {},
   "outputs": [
    {
     "name": "stdout",
     "output_type": "stream",
     "text": [
      "2\n",
      "4\n",
      "6\n",
      "8\n",
      "10\n"
     ]
    }
   ],
   "source": [
    "\"\"\"\n",
    "In Python, an iterator is an object that implements the iterator protocol,\n",
    "which consists of the __iter__() and __next__() methods. The __iter__() method is used to initialize \n",
    "an iterator object,\n",
    "and the __next__() method is used for iteration, returning the next element from the iterator.\"\"\"\n",
    "\n",
    "my_list = [2, 4, 6, 8, 10, 12, 14, 16, 18, 20]\n",
    "my_iter = iter(my_list)\n",
    "\n",
    "for _ in range(5):\n",
    "    element = next(my_iter)\n",
    "    print(element)"
   ]
  },
  {
   "cell_type": "markdown",
   "id": "d0018899-272e-4ae8-b197-d526072ce71b",
   "metadata": {},
   "source": [
    "## Q4. What is a generator function in python? Why yield keyword is used? Give an example of a generator function."
   ]
  },
  {
   "cell_type": "code",
   "execution_count": 7,
   "id": "9635b284-7b66-4c9d-9984-1009e03549ea",
   "metadata": {},
   "outputs": [
    {
     "name": "stdout",
     "output_type": "stream",
     "text": [
      "2\n",
      "4\n",
      "6\n",
      "8\n",
      "10\n"
     ]
    }
   ],
   "source": [
    "\"\"\"\n",
    "In Python, a generator function is a special type of function that generates a sequence of values, \n",
    "one at a time, instead of returning all the values at once. It uses the yield keyword instead of \n",
    "the return keyword to produce the next value in the sequence. This allows the generator function\n",
    "to pause its execution and resume from where it left off when the next value is requested.\n",
    "\n",
    "The yield keyword is used in a generator function to indicate the value to \n",
    "be yielded as the next element in the sequence. When the yield statement is encountered,\n",
    "the current state of the function is saved, and the yielded value is returned to the caller. \n",
    "The function execution is paused at this point.\n",
    "When the generator is iterated over or the next() function is called again, the function resumes execution from\n",
    "where it left off, continuing until the next yield statement is encountered.\"\"\"\n",
    "\n",
    "\n",
    "def generate_even_numbers(n):\n",
    "    for num in range(2, n+1, 2):\n",
    "        yield num\n",
    "\n",
    "# Example usage\n",
    "even_nums = generate_even_numbers(10)\n",
    "for num in even_nums:\n",
    "    print(num)"
   ]
  },
  {
   "cell_type": "markdown",
   "id": "bd6f22cf-e039-4c4d-b6d8-be3773574ac4",
   "metadata": {},
   "source": [
    "## Q5. Create a generator function for prime numbers less than 1000. Use the next() method to print the first 20 prime numbers."
   ]
  },
  {
   "cell_type": "code",
   "execution_count": 8,
   "id": "e51c344c-f465-43e2-85b2-7b026a0f18e7",
   "metadata": {},
   "outputs": [
    {
     "name": "stdout",
     "output_type": "stream",
     "text": [
      "2\n",
      "3\n",
      "5\n",
      "7\n",
      "11\n",
      "13\n",
      "17\n",
      "19\n",
      "23\n",
      "29\n",
      "31\n",
      "37\n",
      "41\n",
      "43\n",
      "47\n",
      "53\n",
      "59\n",
      "61\n",
      "67\n",
      "71\n"
     ]
    }
   ],
   "source": [
    "def generate_primes():\n",
    "    primes = []\n",
    "    num = 2\n",
    "    while True:\n",
    "        if all(num % prime != 0 for prime in primes):\n",
    "            primes.append(num)\n",
    "            yield num\n",
    "        num += 1\n",
    "\n",
    "# Example usage\n",
    "prime_generator = generate_primes()\n",
    "\n",
    "for _ in range(20):\n",
    "    prime = next(prime_generator)\n",
    "    print(prime)"
   ]
  },
  {
   "cell_type": "markdown",
   "id": "d7ee420f-e8a8-42c2-872a-a52165707ada",
   "metadata": {},
   "source": [
    "## Q6. Write a python program to print the first 10 Fibonacci numbers using a while loop."
   ]
  },
  {
   "cell_type": "code",
   "execution_count": 9,
   "id": "cd70b866-1021-4cf0-98aa-e761a3948622",
   "metadata": {},
   "outputs": [
    {
     "name": "stdout",
     "output_type": "stream",
     "text": [
      "0\n",
      "1\n",
      "1\n",
      "2\n",
      "3\n",
      "5\n",
      "8\n",
      "13\n",
      "21\n",
      "34\n"
     ]
    }
   ],
   "source": [
    "# Function to calculate the Fibonacci sequence\n",
    "def fibonacci(n):\n",
    "    fibonacci_sequence = []\n",
    "    a, b = 0, 1\n",
    "    while len(fibonacci_sequence) < n:\n",
    "        fibonacci_sequence.append(a)\n",
    "        a, b = b, a + b\n",
    "    return fibonacci_sequence\n",
    "\n",
    "# Example usage\n",
    "fibonacci_numbers = fibonacci(10)\n",
    "for num in fibonacci_numbers:\n",
    "    print(num)"
   ]
  },
  {
   "cell_type": "markdown",
   "id": "e3579923-33c2-4ccb-8487-e6bfab13bb29",
   "metadata": {},
   "source": [
    "## Q7. Write a List Comprehension to iterate through the given string: ‘pwskills’. Expected output: ['p', 'w', 's', 'k', 'i', 'l', 'l', 's']"
   ]
  },
  {
   "cell_type": "code",
   "execution_count": 10,
   "id": "5a9ea3b5-eb2a-43f8-ab37-8c4c35d09321",
   "metadata": {},
   "outputs": [
    {
     "name": "stdout",
     "output_type": "stream",
     "text": [
      "['p', 'w', 's', 'k', 'i', 'l', 'l', 's']\n"
     ]
    }
   ],
   "source": [
    "input_string = 'pwskills'\n",
    "output_list = [char for char in input_string]\n",
    "print(output_list)\n"
   ]
  },
  {
   "cell_type": "markdown",
   "id": "dfb3e5f1-e2f0-4087-9649-7651f7420192",
   "metadata": {},
   "source": [
    "## Q8. Write a python program to check whether a given number is Palindrome or not using a while loop."
   ]
  },
  {
   "cell_type": "code",
   "execution_count": 11,
   "id": "816c1605-4507-46fd-b8c9-6e52370696a9",
   "metadata": {},
   "outputs": [
    {
     "name": "stdin",
     "output_type": "stream",
     "text": [
      "Enter a number:  141\n"
     ]
    },
    {
     "name": "stdout",
     "output_type": "stream",
     "text": [
      "141 is a palindrome number.\n"
     ]
    }
   ],
   "source": [
    "# Function to check if a number is palindrome\n",
    "def is_palindrome(number):\n",
    "    original_number = number\n",
    "    reversed_number = 0\n",
    "\n",
    "    # Reversing the number using a while loop\n",
    "    while number > 0:\n",
    "        digit = number % 10\n",
    "        reversed_number = reversed_number * 10 + digit\n",
    "        number = number // 10\n",
    "\n",
    "    # Checking if the original number is equal to its reverse\n",
    "    if original_number == reversed_number:\n",
    "        return True\n",
    "    else:\n",
    "        return False\n",
    "\n",
    "# Taking input from the user\n",
    "num = int(input(\"Enter a number: \"))\n",
    "\n",
    "# Checking if the number is palindrome or not\n",
    "if is_palindrome(num):\n",
    "    print(num, \"is a palindrome number.\")\n",
    "else:\n",
    "    print(num, \"is not a palindrome number.\")\n"
   ]
  },
  {
   "cell_type": "code",
   "execution_count": null,
   "id": "1e98a8af-fa07-4346-af47-714a643f27fe",
   "metadata": {},
   "outputs": [],
   "source": []
  },
  {
   "cell_type": "code",
   "execution_count": 1,
   "id": "307fe794-5c2c-45af-b1a4-201c30f6df88",
   "metadata": {},
   "outputs": [
    {
     "name": "stdout",
     "output_type": "stream",
     "text": [
      "Odd numbers from 1 to 100:\n",
      "[1, 3, 5, 7, 9, 11, 13, 15, 17, 19, 21, 23, 25, 27, 29, 31, 33, 35, 37, 39, 41, 43, 45, 47, 49, 51, 53, 55, 57, 59, 61, 63, 65, 67, 69, 71, 73, 75, 77, 79, 81, 83, 85, 87, 89, 91, 93, 95, 97, 99]\n"
     ]
    }
   ],
   "source": [
    "# List comprehension to create a list from 1 to 100\n",
    "numbers = [x for x in range(1, 101)]\n",
    "\n",
    "# List comprehension to filter out odd numbers from the list\n",
    "odd_numbers = [x for x in numbers if x % 2 != 0]\n",
    "\n",
    "# Printing the list of odd numbers\n",
    "print(\"Odd numbers from 1 to 100:\")\n",
    "print(odd_numbers)\n"
   ]
  },
  {
   "cell_type": "code",
   "execution_count": null,
   "id": "bc63ab2a",
   "metadata": {},
   "outputs": [],
   "source": []
  }
 ],
 "metadata": {
  "kernelspec": {
   "display_name": "Python 3 (ipykernel)",
   "language": "python",
   "name": "python3"
  },
  "language_info": {
   "codemirror_mode": {
    "name": "ipython",
    "version": 3
   },
   "file_extension": ".py",
   "mimetype": "text/x-python",
   "name": "python",
   "nbconvert_exporter": "python",
   "pygments_lexer": "ipython3",
   "version": "3.11.5"
  }
 },
 "nbformat": 4,
 "nbformat_minor": 5
}
